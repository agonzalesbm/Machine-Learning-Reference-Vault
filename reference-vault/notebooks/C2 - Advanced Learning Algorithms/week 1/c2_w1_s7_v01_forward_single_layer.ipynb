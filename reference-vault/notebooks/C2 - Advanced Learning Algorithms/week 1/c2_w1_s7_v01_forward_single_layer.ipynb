{
 "cells": [
  {
   "cell_type": "code",
   "execution_count": null,
   "metadata": {},
   "outputs": [],
   "source": [
    "import numpy as np"
   ]
  },
  {
   "cell_type": "code",
   "execution_count": null,
   "metadata": {},
   "outputs": [],
   "source": [
    "# Sigmoid function\n",
    "def sigmoid(z):\n",
    "    return 1 / (1 + np.exp(-z))"
   ]
  },
  {
   "cell_type": "code",
   "execution_count": null,
   "metadata": {},
   "outputs": [],
   "source": [
    "# Input and parameters\n",
    "x = np.array([0.5, 1.0])  # Example input features\n",
    "w1_1, b1_1 = np.array([1, 2]), -1\n",
    "w1_2, b1_2 = np.array([-3, 4]), 0\n",
    "w1_3, b1_3 = np.array([2, -1]), 0.5"
   ]
  },
  {
   "cell_type": "code",
   "execution_count": null,
   "metadata": {},
   "outputs": [],
   "source": [
    "# Compute first layer activations\n",
    "z1_1 = np.dot(w1_1, x) + b1_1\n",
    "a1_1 = sigmoid(z1_1)\n",
    "\n",
    "z1_2 = np.dot(w1_2, x) + b1_2\n",
    "a1_2 = sigmoid(z1_2)\n",
    "\n",
    "z1_3 = np.dot(w1_3, x) + b1_3\n",
    "a1_3 = sigmoid(z1_3)"
   ]
  },
  {
   "cell_type": "code",
   "execution_count": null,
   "metadata": {},
   "outputs": [],
   "source": [
    "# Group into a1\n",
    "a1 = np.array([a1_1, a1_2, a1_3])"
   ]
  },
  {
   "cell_type": "code",
   "execution_count": null,
   "metadata": {},
   "outputs": [],
   "source": [
    "\n",
    "# Second layer parameters\n",
    "w2_1, b2_1 = np.array([0.1, -0.2, 0.3]), 0.7"
   ]
  },
  {
   "cell_type": "code",
   "execution_count": null,
   "metadata": {},
   "outputs": [],
   "source": [
    "# Compute second layer output\n",
    "z2 = np.dot(w2_1, a1) + b2_1\n",
    "a2 = sigmoid(z2)\n",
    "\n",
    "print(\"Output of second layer:\", a2)"
   ]
  }
 ],
 "metadata": {
  "language_info": {
   "name": "python"
  }
 },
 "nbformat": 4,
 "nbformat_minor": 2
}
