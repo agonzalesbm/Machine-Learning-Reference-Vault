{
 "cells": [
  {
   "cell_type": "code",
   "execution_count": 1,
   "metadata": {},
   "outputs": [],
   "source": [
    "from typing import Tuple\n",
    "from numpy.typing import NDArray\n",
    "import numpy as np\n",
    "import matplotlib.pyplot as plt\n",
    "from matplotlib.figure import Figure\n",
    "from matplotlib.axes import Axes\n",
    "\n",
    "plt.style.use(\"ggplot\")"
   ]
  },
  {
   "cell_type": "markdown",
   "metadata": {},
   "source": [
    "## Simple Hypothesis and Cost Function"
   ]
  },
  {
   "cell_type": "code",
   "execution_count": 2,
   "metadata": {},
   "outputs": [],
   "source": [
    "def simple_hypothesis(x: NDArray[np.float64], w: float) -> NDArray[np.float64]:\n",
    "    \"\"\"\n",
    "    A simple linear hypothesis function that does not include a bias term in order\n",
    "    to follow the lecture example.\n",
    "    \"\"\"\n",
    "    return w * x\n",
    "\n",
    "\n",
    "def cost_function(y: NDArray[np.float64], y_hat: NDArray[np.float64]) -> float:\n",
    "    \"\"\"\n",
    "    As mentioned in the videos, `y_hat` is the prediction and `y` is the actual\n",
    "    value. The difference between the prediction and the actual value is the error.\n",
    "    \"\"\"\n",
    "    m = y.shape[0]\n",
    "    return np.sum((y_hat - y) ** 2) / (2 * m)\n",
    "\n",
    "\n",
    "def plot_simple_error(\n",
    "    x: NDArray[np.float64],\n",
    "    y: NDArray[np.float64],\n",
    "    w_range: NDArray[np.float64],\n",
    "    x_marker_position: float,\n",
    ") -> Tuple[Figure, Axes]:\n",
    "\n",
    "    fig, ax = plt.subplots(figsize=(10, 6))\n",
    "    errors = np.array([cost_function(y, simple_hypothesis(x, w)) for w in w_range])\n",
    "    ax.plot(w_range, errors, color=\"blue\", label=\"J(w)\")\n",
    "    ax.axvline(\n",
    "        x=x_marker_position,\n",
    "        color=\"red\",\n",
    "        linestyle=\"--\",\n",
    "        label=f\"w = {x_marker_position}\",\n",
    "    )\n",
    "    ax.set_xlabel(\"w\")\n",
    "    ax.set_ylabel(\"J(w)\")\n",
    "    ax.set_title(\"Cost as a function of w - J(w)\")\n",
    "    ax.legend()\n",
    "\n",
    "    return fig, ax"
   ]
  },
  {
   "cell_type": "markdown",
   "metadata": {},
   "source": [
    "## Simple Hypothesis and Cost Function: Example"
   ]
  },
  {
   "cell_type": "code",
   "execution_count": null,
   "metadata": {},
   "outputs": [],
   "source": [
    "w: float = 4 / 3\n",
    "x_train = np.linspace(-5, 5, 100)\n",
    "y_train = simple_hypothesis(x_train, w)\n",
    "w_sample_range = np.linspace(-5, 8, 100)\n",
    "\n",
    "fig, ax = plot_simple_error(\n",
    "    x=x_train, y=y_train, w_range=w_sample_range, x_marker_position=w\n",
    ")"
   ]
  },
  {
   "cell_type": "markdown",
   "metadata": {},
   "source": [
    "## Complex Hypothesis and Cost Function"
   ]
  },
  {
   "cell_type": "code",
   "execution_count": 4,
   "metadata": {},
   "outputs": [],
   "source": [
    "def complex_hypothesis(\n",
    "    x: NDArray[np.float64], w: float, b: float\n",
    ") -> NDArray[np.float64]:\n",
    "    return w * x + b\n",
    "\n",
    "\n",
    "def plot_complex_error(\n",
    "    x: NDArray[np.float64],\n",
    "    y: NDArray[np.float64],\n",
    "    w_range: NDArray[np.float64],\n",
    "    b_range: NDArray[np.float64],\n",
    ") -> Tuple[Figure, Axes]:\n",
    "    w_mesh, b_mesh = np.meshgrid(w_range, b_range)\n",
    "    errors = np.array(\n",
    "        [\n",
    "            [cost_function(y, complex_hypothesis(x, w, b)) for w in w_range]\n",
    "            for b in b_range\n",
    "        ]\n",
    "    )\n",
    "    fig = plt.figure(figsize=(12, 8))\n",
    "    ax = fig.add_subplot(111, projection=\"3d\")\n",
    "    ax.plot_surface(w_mesh, b_mesh, errors, cmap=\"viridis\")\n",
    "    ax.set_xlabel(\"w\")\n",
    "    ax.set_ylabel(\"b\")\n",
    "    ax.set_zlabel(\"J(w,b)\", labelpad=-30)\n",
    "    ax.set_title(\"Cost as a function of w and b - J(w,b)\")\n",
    "\n",
    "    return fig, ax\n",
    "\n",
    "\n",
    "def plot_complex_error_with_contour(\n",
    "    x: NDArray[np.float64],\n",
    "    y: NDArray[np.float64],\n",
    "    w_range: NDArray[np.float64],\n",
    "    b_range: NDArray[np.float64],\n",
    ") -> Tuple[Figure, Axes]:\n",
    "    w_mesh, b_mesh = np.meshgrid(w_range, b_range)\n",
    "    errors = np.array(\n",
    "        [\n",
    "            [cost_function(y, complex_hypothesis(x, w, b)) for w in w_range]\n",
    "            for b in b_range\n",
    "        ]\n",
    "    )\n",
    "    fig, ax = plt.subplots(figsize=(10, 6))\n",
    "    contour = ax.contourf(w_mesh, b_mesh, errors, levels=20, cmap=\"viridis\")\n",
    "\n",
    "    ax.set_xlabel(\"w\")\n",
    "    ax.set_ylabel(\"b\")\n",
    "    ax.set_title(\"Cost as a function of w and b - J(w,b)\")\n",
    "\n",
    "    fig.colorbar(contour, ax=ax, label=\"Cost\")\n",
    "\n",
    "    return fig, ax"
   ]
  },
  {
   "cell_type": "markdown",
   "metadata": {},
   "source": [
    "## Complex Hypothesis and Cost Function: Example"
   ]
  },
  {
   "cell_type": "code",
   "execution_count": null,
   "metadata": {},
   "outputs": [],
   "source": [
    "w = 2.5\n",
    "b = -1.5\n",
    "x_train = np.linspace(-5, 5, 100)\n",
    "y_train = complex_hypothesis(x_train, w, b)\n",
    "w_sample_range = np.linspace(-5, 5, 100)\n",
    "b_sample_range = np.linspace(-5, 5, 100)\n",
    "\n",
    "fig, ax = plot_complex_error(\n",
    "    x=x_train, y=y_train, w_range=w_sample_range, b_range=b_sample_range\n",
    ")\n",
    "\n",
    "fig, ax = plot_complex_error_with_contour(\n",
    "    x=x_train, y=y_train, w_range=w_sample_range, b_range=b_sample_range\n",
    ")"
   ]
  }
 ],
 "metadata": {
  "kernelspec": {
   "display_name": "venv",
   "language": "python",
   "name": "python3"
  },
  "language_info": {
   "codemirror_mode": {
    "name": "ipython",
    "version": 3
   },
   "file_extension": ".py",
   "mimetype": "text/x-python",
   "name": "python",
   "nbconvert_exporter": "python",
   "pygments_lexer": "ipython3",
   "version": "3.12.6"
  }
 },
 "nbformat": 4,
 "nbformat_minor": 2
}
